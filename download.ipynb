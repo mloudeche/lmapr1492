{
 "cells": [
  {
   "cell_type": "code",
   "execution_count": 9,
   "metadata": {},
   "outputs": [],
   "source": [
    "from pymatgen.ext.matproj import MPRester\n",
    "from pymatgen.apps.borg.hive import VaspToComputedEntryDrone\n",
    "from pymatgen.apps.borg.queen import BorgQueen\n",
    "from pymatgen.entries.compatibility import MaterialsProjectCompatibility\n",
    "from pymatgen.analysis.phase_diagram import PhaseDiagram, PDPlotter\n",
    "from pymatgen.io.cif import CifParser\n",
    "from pymatgen.io.cif import CifWriter\n",
    "with MPRester(\"1UZlSnaTONTXfpKB\") as m:\n",
    "    structure = m.get_structure_by_material_id(\"mp-1023936\")\n",
    "    w = CifWriter(structure)\n",
    "    w.write_file(\"myStructure.cif\")"
   ]
  },
  {
   "cell_type": "code",
   "execution_count": null,
   "metadata": {},
   "outputs": [],
   "source": []
  }
 ],
 "metadata": {
  "kernelspec": {
   "display_name": "Python 3",
   "language": "python",
   "name": "python3"
  },
  "language_info": {
   "codemirror_mode": {
    "name": "ipython",
    "version": 3
   },
   "file_extension": ".py",
   "mimetype": "text/x-python",
   "name": "python",
   "nbconvert_exporter": "python",
   "pygments_lexer": "ipython3",
   "version": "3.6.8"
  }
 },
 "nbformat": 4,
 "nbformat_minor": 2
}
