{
 "cells": [
  {
   "cell_type": "markdown",
   "metadata": {},
   "source": [
    "Tâche 6 : symmetry.ipynb\n",
    "\n",
    "Loudeche Maxime.\n",
    "\n",
    "Ce notebook permet de télécharger le fichier .CIF du matériaux \"mp-1023936\" : WSe2. Il permet également de mettre en évidence l’effet de 3 éléments de symétrie différents (pas l’identité) chacun pour 1 atome différent. Nous travaillerons ici avec la maille conventionnelle étant donné que cette dernière fait apparaître toute la symétrie de la maille :\n",
    "<p>\n",
    "    <img src=\"Image1.png\" />\n",
    "</p>    \n",
    "Légende : Orange = Se ; Bleu = W\n",
    "\n"
   ]
  },
  {
   "cell_type": "markdown",
   "metadata": {},
   "source": [
    "<b>Opération de symétrie 1 : Réflexion par rapport à un plan miroir.</b>\n",
    "\n",
    "Intéressons nous au plan miroir qui envoie un point (x, y, z) à la position (x, y, -z). \n",
    "\n",
    "<p>\n",
    "    <img src=\"Calcul1.png\" />\n",
    "</p>  "
   ]
  },
  {
   "cell_type": "code",
   "execution_count": 7,
   "metadata": {
    "scrolled": true
   },
   "outputs": [
    {
     "name": "stdout",
     "output_type": "stream",
     "text": [
      "La matrice associée à ce plan miroir est : \n",
      "[[ 1.  0.  0.]\n",
      " [ 0.  1.  0.]\n",
      " [ 0.  0. -1.]]\n"
     ]
    }
   ],
   "source": [
    "from pymatgen.ext.matproj import MPRester\n",
    "from pymatgen.io.cif import CifWriter\n",
    "from pymatgen.core.operations import SymmOp\n",
    "with MPRester(\"1UZlSnaTONTXfpKB\") as m:\n",
    "    structure = m.get_structure_by_material_id(\"mp-1023936\")\n",
    "    w = CifWriter(structure)\n",
    "    w.write_file(\"mp-1023936_struture.cif\")\n",
    "    \n",
    "mir = SymmOp.from_xyz_string('x, y, -z')\n",
    "print('La matrice associée à ce plan miroir est : ')\n",
    "print(mir.rotation_matrix)"
   ]
  },
  {
   "cell_type": "markdown",
   "metadata": {},
   "source": [
    "L'application de ce plan miroir à un atome de Se situé en (0.33, 0.67, 0.1) donne :"
   ]
  },
  {
   "cell_type": "code",
   "execution_count": 8,
   "metadata": {},
   "outputs": [
    {
     "name": "stdout",
     "output_type": "stream",
     "text": [
      "[ 0.33  0.67 -0.1 ]\n"
     ]
    }
   ],
   "source": [
    "print(mir.operate((0.33, 0.67, 0.1)))"
   ]
  },
  {
   "cell_type": "markdown",
   "metadata": {},
   "source": [
    "<p>\n",
    "    <img src=\"Image2.png\" />\n",
    "</p> \n",
    "La flèche bleue représente l'application du plan miroir (en vert).\n",
    "\n",
    "\n",
    "\n",
    "<b>Opération de symétrie 2 : Rotation d'ordre 3 dans la direction [001].</b>\n",
    "\n",
    "Intéressons nous à la rotation d'ordre 3 (120 degré ou 2pi/3 d'angle de rotation) qui envoie un point (x, y, z) à la position (-y, x-y, z).\n",
    "\n",
    "<p>\n",
    "    <img src=\"Calcul2.png\" />\n",
    "</p> "
   ]
  },
  {
   "cell_type": "code",
   "execution_count": 11,
   "metadata": {
    "scrolled": true
   },
   "outputs": [
    {
     "name": "stdout",
     "output_type": "stream",
     "text": [
      "La matrice associée à cette rotation est : \n",
      "[[ 0. -1.  0.]\n",
      " [ 1. -1.  0.]\n",
      " [ 0.  0.  1.]]\n"
     ]
    }
   ],
   "source": [
    "rot = SymmOp.from_xyz_string('-y, x-y, z')\n",
    "print('La matrice associée à cette rotation est : ')\n",
    "print(rot.rotation_matrix)"
   ]
  },
  {
   "cell_type": "markdown",
   "metadata": {},
   "source": [
    "L'application de cette rotation à un atome de W situé en (0, 1, 1) donne :"
   ]
  },
  {
   "cell_type": "code",
   "execution_count": 12,
   "metadata": {},
   "outputs": [
    {
     "name": "stdout",
     "output_type": "stream",
     "text": [
      "[-1. -1.  1.]\n"
     ]
    }
   ],
   "source": [
    "print(rot.operate((0, 1, 1)))"
   ]
  },
  {
   "cell_type": "markdown",
   "metadata": {},
   "source": [
    "<p>\n",
    "    <img src=\"Image3.png\" />\n",
    "</p> \n",
    "La flèche rouge représente l'axe de la rotation d'ordre 3 (direction [001]). \n",
    "\n"
   ]
  },
  {
   "cell_type": "markdown",
   "metadata": {},
   "source": [
    "<b>Opération de symétrie 3 : Roto-inversion d'ordre 6 avec (0, 0, 0) comme point d'inversion.</b>\n",
    "\n",
    "Intéressons nous à la roto-inversion d'ordre 6 (une inversion selon (0, 0, 0) suivi d'une rotation de 60 degré ou 2pi/6 d'angle de rotation, ou inversément : la rotation suivie de l'inversion) qui envoie un point (x, y, z) à la position (-x+y, -x, -z).\n",
    "\n",
    "<p>\n",
    "    <img src=\"Calcul3.png\" />\n",
    "</p> "
   ]
  },
  {
   "cell_type": "code",
   "execution_count": 13,
   "metadata": {},
   "outputs": [
    {
     "name": "stdout",
     "output_type": "stream",
     "text": [
      "La matrice associée à cette roto-inversion est : \n",
      "[[-1.  1.  0.]\n",
      " [-1.  0.  0.]\n",
      " [ 0.  0. -1.]]\n"
     ]
    }
   ],
   "source": [
    "rot_inv = SymmOp.from_xyz_string('-x+y, -x, -z')\n",
    "print('La matrice associée à cette roto-inversion est : ')\n",
    "print(rot_inv.rotation_matrix)"
   ]
  },
  {
   "cell_type": "markdown",
   "metadata": {},
   "source": [
    "L'application de cette roto-inversion sur un atome de W situé en (0, 1, 0) donne :"
   ]
  },
  {
   "cell_type": "code",
   "execution_count": 14,
   "metadata": {},
   "outputs": [
    {
     "name": "stdout",
     "output_type": "stream",
     "text": [
      "[1. 0. 0.]\n"
     ]
    }
   ],
   "source": [
    "print(rot_inv.operate((0, 1, 0)))"
   ]
  },
  {
   "cell_type": "markdown",
   "metadata": {},
   "source": [
    "<p>\n",
    "    <img src=\"Image4.png\" />\n",
    "</p> \n",
    "\n",
    "La fléche bleue représente l'inversion et la fléche rouge (courbée) indique la rotation. Au milieu de la flèche, il n'est pas visible sur la photo mais il y a un point jaune qui représente le centre d'inversion (en (0, 0, 0)). "
   ]
  }
 ],
 "metadata": {
  "kernelspec": {
   "display_name": "Python 3",
   "language": "python",
   "name": "python3"
  },
  "language_info": {
   "codemirror_mode": {
    "name": "ipython",
    "version": 3
   },
   "file_extension": ".py",
   "mimetype": "text/x-python",
   "name": "python",
   "nbconvert_exporter": "python",
   "pygments_lexer": "ipython3",
   "version": "3.6.8"
  }
 },
 "nbformat": 4,
 "nbformat_minor": 2
}
