{
 "cells": [
  {
   "cell_type": "markdown",
   "metadata": {},
   "source": [
    "Tâche 5 : lattice.ipynb\n",
    "\n",
    "Loudeche Maxime.\n",
    "\n",
    "Ce notebook permet de télécharger le fichier .CIF du matériaux \"mp-1023936\" : WSe2.\n",
    "Il met également en évidence les vecteurs du réseau direct et réciproque, le système crystallin, le type de maille et le groupe ponctuel du matériaux en question."
   ]
  },
  {
   "cell_type": "code",
   "execution_count": 10,
   "metadata": {},
   "outputs": [
    {
     "name": "stdout",
     "output_type": "stream",
     "text": [
      "Les vecteurs du réseau direct sont respectivement A, B, C :\n",
      "3.325612 0.000000 0.000000\n",
      "-1.662807 2.880064 0.000000\n",
      "0.000000 0.000000 17.527085\n",
      "Les vecteurs du réseau réciproque sont respectivement A*, B*, C* :\n",
      "1.889332 1.090807 0.000000\n",
      "0.000000 2.181613 0.000000\n",
      "0.000000 0.000000 0.358484\n",
      "Le système crystallin = hexagonal\n",
      "Le type de maille = hexagonal\n",
      "Le groupe ponctuel = -6m2\n"
     ]
    }
   ],
   "source": [
    "from pymatgen.ext.matproj import MPRester\n",
    "from pymatgen.io.cif import CifWriter\n",
    "from pymatgen.symmetry.analyzer import SpacegroupAnalyzer\n",
    "with MPRester(\"1UZlSnaTONTXfpKB\") as m:\n",
    "    structure = m.get_structure_by_material_id(\"mp-1023936\")\n",
    "    w = CifWriter(structure)\n",
    "    w.write_file(\"mp-1023936_struture.cif\")\n",
    "\n",
    "s = SpacegroupAnalyzer(structure)  # la structure qu'on analyse \n",
    "\n",
    "cartesian_coords = structure.lattice\n",
    "# les vecteurs du réseau direct\n",
    "print('Les vecteurs du réseau direct sont respectivement A, B, C :')\n",
    "print(cartesian_coords)\n",
    "\n",
    "cartesian_coords_reciprocal = structure.lattice.reciprocal_lattice\n",
    "# les vecteurs du réseau réciproque\n",
    "print('Les vecteurs du réseau réciproque sont respectivement A*, B*, C* :')\n",
    "print(cartesian_coords_reciprocal)\n",
    "\n",
    "crystal_system = s.get_crystal_system()             # son système crystallin\n",
    "print('Le système crystallin = ' + crystal_system)\n",
    "\n",
    "lattice_type = s.get_lattice_type()         # le type de maille \n",
    "print('Le type de maille = ' + lattice_type)\n",
    "\n",
    "point_group = s.get_point_group_symbol()         # son groupe ponctuel\n",
    "print('Le groupe ponctuel = ' + point_group)"
   ]
  }
 ],
 "metadata": {
  "kernelspec": {
   "display_name": "Python 3",
   "language": "python",
   "name": "python3"
  },
  "language_info": {
   "codemirror_mode": {
    "name": "ipython",
    "version": 3
   },
   "file_extension": ".py",
   "mimetype": "text/x-python",
   "name": "python",
   "nbconvert_exporter": "python",
   "pygments_lexer": "ipython3",
   "version": "3.6.8"
  }
 },
 "nbformat": 4,
 "nbformat_minor": 2
}
