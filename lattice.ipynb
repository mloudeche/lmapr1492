{
 "cells": [
  {
   "cell_type": "code",
   "execution_count": 56,
   "metadata": {},
   "outputs": [
    {
     "name": "stdout",
     "output_type": "stream",
     "text": [
      "hexagonal\n"
     ]
    }
   ],
   "source": [
    "from pymatgen.ext.matproj import MPRester\n",
    "from pymatgen.io.cif import CifWriter\n",
    "from pymatgen.symmetry.analyzer import SpacegroupAnalyzer\n",
    "with MPRester(\"1UZlSnaTONTXfpKB\") as m:\n",
    "    structure = m.get_structure_by_material_id(\"mp-1023936\")\n",
    "    w = CifWriter(structure)\n",
    "    w.write_file(\"mp-1023936_struture.cif\")\n",
    "\n",
    "s = SpacegroupAnalyzer(structure)  # la structure qu'on analyse  \n",
    "lattice_type = s.get_lattice_type()         # le type de maille \n",
    "print(lattice_type)"
   ]
  },
  {
   "cell_type": "code",
   "execution_count": 57,
   "metadata": {},
   "outputs": [
    {
     "name": "stdout",
     "output_type": "stream",
     "text": [
      "hexagonal\n"
     ]
    }
   ],
   "source": [
    "crystal_system = s.get_crystal_system()             # son système crystallin\n",
    "print(crystal_system)"
   ]
  },
  {
   "cell_type": "code",
   "execution_count": 58,
   "metadata": {},
   "outputs": [
    {
     "name": "stdout",
     "output_type": "stream",
     "text": [
      "-6m2\n"
     ]
    }
   ],
   "source": [
    "point_group = s.get_point_group_symbol()         # son groupe ponctuel\n",
    "print(point_group)"
   ]
  },
  {
   "cell_type": "code",
   "execution_count": 59,
   "metadata": {},
   "outputs": [
    {
     "name": "stdout",
     "output_type": "stream",
     "text": [
      "3.325612 0.000000 0.000000\n",
      "-1.662807 2.880064 0.000000\n",
      "0.000000 0.000000 17.527085\n"
     ]
    }
   ],
   "source": [
    "cartesian_coords = structure.lattice\n",
    "# les vecteurs du réseau direct\n",
    "print(cartesian_coords)"
   ]
  },
  {
   "cell_type": "code",
   "execution_count": 60,
   "metadata": {},
   "outputs": [
    {
     "name": "stdout",
     "output_type": "stream",
     "text": [
      "1.889332 1.090807 0.000000\n",
      "0.000000 2.181613 0.000000\n",
      "0.000000 0.000000 0.358484\n"
     ]
    }
   ],
   "source": [
    "cartesian_coords_reciprocal = structure.lattice.reciprocal_lattice\n",
    "# les vecteurs du réseau réciproque\n",
    "print(cartesian_coords_reciprocal)"
   ]
  }
 ],
 "metadata": {
  "kernelspec": {
   "display_name": "Python 3",
   "language": "python",
   "name": "python3"
  },
  "language_info": {
   "codemirror_mode": {
    "name": "ipython",
    "version": 3
   },
   "file_extension": ".py",
   "mimetype": "text/x-python",
   "name": "python",
   "nbconvert_exporter": "python",
   "pygments_lexer": "ipython3",
   "version": "3.6.8"
  }
 },
 "nbformat": 4,
 "nbformat_minor": 2
}
